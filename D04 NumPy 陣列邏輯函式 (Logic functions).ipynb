{
 "cells": [
  {
   "cell_type": "code",
   "execution_count": 6,
   "metadata": {},
   "outputs": [],
   "source": [
    "# 作業目標:熟悉邏輯運算\n",
    "# 作業重點:五大類邏輯函式與其對應的函式操作\n",
    "# 題目:\n",
    "# 下 3 列共六位同學的英文、數學、國文成績，第一個元素代表第一位同學，\n",
    "# 舉例第一位同學英文 55 分、數學 60 分、國文 65 分，運用下列數據回答下列問題。"
   ]
  },
  {
   "cell_type": "code",
   "execution_count": 8,
   "metadata": {},
   "outputs": [],
   "source": [
    "import numpy as np\n",
    "english_score=np.array([55,89,76,65,48,70])\n",
    "math_score=np.array([60,85,60,68,55,60])\n",
    "chinese_score=np.array([65,90,82,72,66,77])"
   ]
  },
  {
   "cell_type": "code",
   "execution_count": 12,
   "metadata": {
    "scrolled": true
   },
   "outputs": [
    {
     "name": "stdout",
     "output_type": "stream",
     "text": [
      "3\n"
     ]
    }
   ],
   "source": [
    "# 1.有多少學生英文成績比數學成績高？ \n",
    "en_greater_ma = np.greater(english_score,math_score)\n",
    "print(np.sum(en_greater_ma))"
   ]
  },
  {
   "cell_type": "code",
   "execution_count": 26,
   "metadata": {},
   "outputs": [
    {
     "name": "stdout",
     "output_type": "stream",
     "text": [
      "是\n"
     ]
    }
   ],
   "source": [
    "# 2.是否全班同學最高分都是國文?\n",
    "ch_greater_ma = np.greater(chinese_score,math_score)\n",
    "ch_greater_en = np.greater(chinese_score,english_score)\n",
    "a=np.equal(ch_greater_ma,ch_greater_en)\n",
    "if sum(a) == 6 :\n",
    "    print(\"是\")\n",
    "else :\n",
    "    print(\"不是\")"
   ]
  }
 ],
 "metadata": {
  "kernelspec": {
   "display_name": "Python 3",
   "language": "python",
   "name": "python3"
  },
  "language_info": {
   "codemirror_mode": {
    "name": "ipython",
    "version": 3
   },
   "file_extension": ".py",
   "mimetype": "text/x-python",
   "name": "python",
   "nbconvert_exporter": "python",
   "pygments_lexer": "ipython3",
   "version": "3.8.5"
  }
 },
 "nbformat": 4,
 "nbformat_minor": 4
}
