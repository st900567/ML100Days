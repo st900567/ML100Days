{
 "cells": [
  {
   "cell_type": "code",
   "execution_count": 1,
   "metadata": {},
   "outputs": [],
   "source": [
    "# 作業目標:計算有缺失值的資料，統計量實作\n",
    "# 作業重點:當遇到缺失值有函式可以處理，不須額外寫程式刪除;計算統計量時不能出現缺失值\n",
    "\n",
    "# 題目:\n",
    "#english_score = np.array([55,89,76,65,48,70])\n",
    "#math_score = np.array([60,85,60,68,np.nan,60])\n",
    "#chinese_score = np.array([65,90,82,72,66,77])\n",
    "\n",
    "#上3列共六位同學的英文、數學、國文成績，第一個元素代表第一位同學，\n",
    "#舉例第一位同學英文55分、數學60分、國文65分，\n",
    "#今天第五位同學因某原因沒來考試，導致數學成績缺值，運用上列數據回答下列問題。\n",
    "#請計算各科成績平均、最大值、最小值、標準差，其中數學缺一筆資料可忽略?\n",
    "#第五位同學補考數學後成績為55，請計算補考後數學成績平均、最大值、最小值、標準差?\n",
    "#用補考後資料找出與國文成績相關係數最高的學科?"
   ]
  },
  {
   "cell_type": "code",
   "execution_count": 2,
   "metadata": {},
   "outputs": [],
   "source": [
    "import numpy as np\n",
    "english_score = np.array([55,89,76,65,48,70])\n",
    "math_score = np.array([60,85,60,68,np.nan,60])\n",
    "chinese_score = np.array([65,90,82,72,66,77])"
   ]
  },
  {
   "cell_type": "code",
   "execution_count": 3,
   "metadata": {},
   "outputs": [
    {
     "name": "stdout",
     "output_type": "stream",
     "text": [
      "數學分數  平均 66.6 最大值 85.0 最小值 60.0 標準差 9.707728879609279\n",
      "國文分數  平均 75.33333333333333 最大值 90 最小值 65 標準差 8.825468196582484\n",
      "英文分數  平均 67.16666666666667 最大值 89 最小值 48 標準差 13.433995020924426\n"
     ]
    }
   ],
   "source": [
    "#1. 請計算各科成績平均、最大值、最小值、標準差，其中數學缺一筆資料可忽略?\n",
    "print(\"數學分數 \",\"平均\",np.nanmean(math_score),\"最大值\",np.nanmax(math_score),\"最小值\",np.nanmin(math_score),\"標準差\",np.nanstd(math_score))\n",
    "print(\"國文分數 \",\"平均\",np.nanmean(chinese_score),\"最大值\",np.nanmax(chinese_score),\"最小值\",np.nanmin(chinese_score),\"標準差\",np.nanstd(chinese_score))\n",
    "print(\"英文分數 \",\"平均\",np.nanmean(english_score),\"最大值\",np.nanmax(english_score),\"最小值\",np.nanmin(english_score),\"標準差\",np.nanstd(english_score))"
   ]
  },
  {
   "cell_type": "code",
   "execution_count": 4,
   "metadata": {},
   "outputs": [
    {
     "name": "stdout",
     "output_type": "stream",
     "text": [
      "補考數學後\n",
      "數學分數  平均 64.66666666666667 最大值 85.0 最小值 55.0 標準差 9.860132971832694\n"
     ]
    }
   ],
   "source": [
    "#2. 第五位同學補考數學後成績為55，請計算補考後數學成績平均、最大值、最小值、標準差?\n",
    "math_score[4]=55\n",
    "print(\"補考數學後\")\n",
    "print(\"數學分數 \",\"平均\",np.nanmean(math_score),\"最大值\",np.nanmax(math_score),\"最小值\",np.nanmin(math_score),\"標準差\",np.nanstd(math_score))"
   ]
  },
  {
   "cell_type": "code",
   "execution_count": 5,
   "metadata": {},
   "outputs": [
    {
     "name": "stdout",
     "output_type": "stream",
     "text": [
      "國文與數學相關係數 [[1.         0.74056803]\n",
      " [0.74056803 1.        ]]\n",
      "國文與英文相關係數 [[1.         0.97792828]\n",
      " [0.97792828 1.        ]]\n",
      "英文與國文的相關係數較高\n"
     ]
    }
   ],
   "source": [
    "#3. 用補考後資料找出與國文成績相關係數最高的學科?\n",
    "print(\"國文與數學相關係數\",np.corrcoef(chinese_score,math_score))\n",
    "print(\"國文與英文相關係數\",np.corrcoef(chinese_score,english_score))\n",
    "print(\"英文與國文的相關係數較高\")"
   ]
  }
 ],
 "metadata": {
  "kernelspec": {
   "display_name": "Python 3",
   "language": "python",
   "name": "python3"
  },
  "language_info": {
   "codemirror_mode": {
    "name": "ipython",
    "version": 3
   },
   "file_extension": ".py",
   "mimetype": "text/x-python",
   "name": "python",
   "nbconvert_exporter": "python",
   "pygments_lexer": "ipython3",
   "version": "3.8.5"
  }
 },
 "nbformat": 4,
 "nbformat_minor": 4
}
