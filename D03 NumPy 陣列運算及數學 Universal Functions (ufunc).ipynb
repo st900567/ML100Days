{
 "cells": [
  {
   "cell_type": "code",
   "execution_count": 1,
   "metadata": {},
   "outputs": [],
   "source": [
    "# 作業目標:嘗試練習log的函式並應用\n",
    "# 作業重點:學員需要複習log的轉換方式、熟悉運用指數函數以及對數函數\n",
    "\n",
    "# 正常的人耳能夠聽到最微弱的聲音叫作「聽覺閾」為 20 個微巴斯卡 (縮寫為 μPa) \n",
    "# 以聲壓 20μPa 定義為 0 分貝，表示 V0 為 20μPa，其餘聲壓為 V1(微巴斯卡)\n",
    "# 例如將 V1 帶入 200μPa，V0 為 20μPa，可以得到 20GdB。\n",
    "\n",
    "import numpy as np "
   ]
  },
  {
   "cell_type": "code",
   "execution_count": 3,
   "metadata": {},
   "outputs": [
    {
     "data": {
      "text/plain": [
       "60.0"
      ]
     },
     "execution_count": 3,
     "metadata": {},
     "output_type": "execute_result"
    }
   ],
   "source": [
    "# 1.正常的談話的聲壓為 20000 微巴斯卡，請問多少分貝?\n",
    "V1=20000\n",
    "V0=20\n",
    "20*np.log10(V1/V0)"
   ]
  },
  {
   "cell_type": "code",
   "execution_count": 13,
   "metadata": {},
   "outputs": [
    {
     "data": {
      "text/plain": [
       "0.09999999999999999"
      ]
     },
     "execution_count": 13,
     "metadata": {},
     "output_type": "execute_result"
    }
   ],
   "source": [
    "# 2.30 分貝的聲壓會是 50 分貝的幾倍?\n",
    "# GdB=20*log10(V1/V0)\n",
    "\n",
    "# 30=20*log10(V30/V0) => V30/V0=10^1.5\n",
    "# 50=20*log10(V50/V0) => V50/V0=10^2.5\n",
    "\n",
    "a=np.power(10,1.5)\n",
    "b=np.power(10,2.5)\n",
    "c=np.divide(a,b)\n",
    "c"
   ]
  }
 ],
 "metadata": {
  "kernelspec": {
   "display_name": "Python 3",
   "language": "python",
   "name": "python3"
  },
  "language_info": {
   "codemirror_mode": {
    "name": "ipython",
    "version": 3
   },
   "file_extension": ".py",
   "mimetype": "text/x-python",
   "name": "python",
   "nbconvert_exporter": "python",
   "pygments_lexer": "ipython3",
   "version": "3.8.5"
  }
 },
 "nbformat": 4,
 "nbformat_minor": 4
}
